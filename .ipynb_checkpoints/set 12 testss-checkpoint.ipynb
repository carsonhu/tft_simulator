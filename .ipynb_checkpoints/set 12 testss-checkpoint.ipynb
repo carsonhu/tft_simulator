{
 "cells": [
  {
   "cell_type": "code",
   "execution_count": 1,
   "id": "f1c00155",
   "metadata": {
    "scrolled": true
   },
   "outputs": [
    {
     "name": "stderr",
     "output_type": "stream",
     "text": [
      "C:\\Users\\carso\\Anaconda3\\envs\\starcraft\\lib\\site-packages\\numpy\\_distributor_init.py:32: UserWarning: loaded more than 1 DLL from .libs:\n",
      "C:\\Users\\carso\\Anaconda3\\envs\\starcraft\\lib\\site-packages\\numpy\\.libs\\libopenblas.IPBC74C7KURV7CB2PKT5Z5FNR3SIBV4J.gfortran-win_amd64.dll\n",
      "C:\\Users\\carso\\Anaconda3\\envs\\starcraft\\lib\\site-packages\\numpy\\.libs\\libopenblas.WCDJNK7YVMPZQ2ME2ZZHJJRJ3JIKNDB7.gfortran-win_amd64.dll\n",
      "  stacklevel=1)\n"
     ]
    }
   ],
   "source": [
    "import set12items as items\n",
    "import copy\n",
    "import matplotlib.pyplot as plt\n",
    "import time\n",
    "import set12champs\n",
    "import set12buffs as buffs\n",
    "import set12champsimulator"
   ]
  },
  {
   "cell_type": "code",
   "execution_count": 3,
   "id": "df32115d",
   "metadata": {},
   "outputs": [
    {
     "name": "stdout",
     "output_type": "stream",
     "text": [
      "{}\n",
      "{}\n",
      "{}\n",
      "{}\n",
      "{}\n",
      "{'Ashe Ult Ashe 0': <status.AsheUlt object at 0x000001F54414EF60>}\n",
      "{'Ashe Ult Ashe 0': <status.AsheUlt object at 0x000001F54414EF60>}\n",
      "{'Ashe Ult Ashe 0': <status.AsheUlt object at 0x000001F54414EF60>}\n",
      "{'Ashe Ult Ashe 0': <status.AsheUlt object at 0x000001F54414EF60>}\n",
      "{'Ashe Ult Ashe 0': <status.AsheUlt object at 0x000001F54414EF60>}\n",
      "{'Ashe Ult Ashe 0': <status.AsheUlt object at 0x000001F54414EF60>}\n",
      "{'Ashe Ult Ashe 0': <status.AsheUlt object at 0x000001F54414EF60>}\n",
      "{'Ashe Ult Ashe 0': <status.AsheUlt object at 0x000001F54414EF60>}\n",
      "{'Ashe Ult Ashe 0': <status.AsheUlt object at 0x000001F54414EF60>, 'Ashe Ult Ashe 1': <status.AsheUlt object at 0x000001F54414EF98>}\n",
      "{'Ashe Ult Ashe 0': <status.AsheUlt object at 0x000001F54414EF60>, 'Ashe Ult Ashe 1': <status.AsheUlt object at 0x000001F54414EF98>}\n",
      "wearing off\n",
      "{'Ashe Ult Ashe 0': <status.AsheUlt object at 0x000001F54414EF60>, 'Ashe Ult Ashe 1': <status.AsheUlt object at 0x000001F54414EF98>}\n",
      "{'Ashe Ult Ashe 0': <status.AsheUlt object at 0x000001F54414EF60>, 'Ashe Ult Ashe 1': <status.AsheUlt object at 0x000001F54414EF98>}\n",
      "{'Ashe Ult Ashe 0': <status.AsheUlt object at 0x000001F54414EF60>, 'Ashe Ult Ashe 1': <status.AsheUlt object at 0x000001F54414EF98>}\n",
      "{'Ashe Ult Ashe 0': <status.AsheUlt object at 0x000001F54414EF60>, 'Ashe Ult Ashe 1': <status.AsheUlt object at 0x000001F54414EF98>}\n",
      "{'Ashe Ult Ashe 0': <status.AsheUlt object at 0x000001F54414EF60>, 'Ashe Ult Ashe 1': <status.AsheUlt object at 0x000001F54414EF98>}\n",
      "{'Ashe Ult Ashe 0': <status.AsheUlt object at 0x000001F54414EF60>, 'Ashe Ult Ashe 1': <status.AsheUlt object at 0x000001F54414EF98>}\n",
      "ashe tests\n",
      "(0, (148.5, 'physical'), 0.7, 30)\n",
      "(1.4333333333333345, (148.5, 'physical'), 0.7, 40)\n",
      "(2.8666666666666663, (148.5, 'physical'), 0.7, 50)\n",
      "(4.2999999999999945, (148.5, 'physical'), 0.7, 60)\n",
      "(5.733333333333323, (148.5, 'physical'), 0.7, 70)\n",
      "(7.166666666666651, (60.75, 'physical'), 0.7, 0)\n",
      "(7.166666666666651, (148.5, 'physical'), 0.7, 0)\n",
      "(8.59999999999998, (60.75, 'physical'), 0.7, 10)\n",
      "(8.59999999999998, (148.5, 'physical'), 0.7, 10)\n",
      "(10.033333333333308, (60.75, 'physical'), 0.7, 20)\n",
      "(10.033333333333308, (148.5, 'physical'), 0.7, 20)\n",
      "(11.466666666666637, (60.75, 'physical'), 0.7, 30)\n",
      "(11.466666666666637, (148.5, 'physical'), 0.7, 30)\n",
      "(12.899999999999965, (60.75, 'physical'), 0.7, 40)\n",
      "(12.899999999999965, (148.5, 'physical'), 0.7, 40)\n",
      "(14.333333333333293, (60.75, 'physical'), 0.7, 50)\n",
      "(14.333333333333293, (148.5, 'physical'), 0.7, 50)\n",
      "(15.766666666666621, (60.75, 'physical'), 0.7, 60)\n",
      "(15.766666666666621, (148.5, 'physical'), 0.7, 60)\n",
      "(17.16666666666668, (60.75, 'physical'), 0.7, 70)\n",
      "(17.16666666666668, (148.5, 'physical'), 0.7, 70)\n",
      "(18.600000000000083, (60.75, 'physical'), 0.7, 0)\n",
      "(18.600000000000083, (60.75, 'physical'), 0.7, 0)\n",
      "(18.600000000000083, (148.5, 'physical'), 0.7, 0)\n",
      "(20.033333333333488, (60.75, 'physical'), 0.7, 10)\n",
      "(20.033333333333488, (60.75, 'physical'), 0.7, 10)\n",
      "(20.033333333333488, (148.5, 'physical'), 0.7, 10)\n",
      "(21.466666666666892, (60.75, 'physical'), 0.7, 20)\n",
      "(21.466666666666892, (148.5, 'physical'), 0.7, 20)\n",
      "(22.900000000000297, (60.75, 'physical'), 0.7, 30)\n",
      "(22.900000000000297, (148.5, 'physical'), 0.7, 30)\n",
      "(24.3333333333337, (60.75, 'physical'), 0.7, 40)\n",
      "(24.3333333333337, (148.5, 'physical'), 0.7, 40)\n",
      "(25.766666666667106, (60.75, 'physical'), 0.7, 50)\n",
      "(25.766666666667106, (148.5, 'physical'), 0.7, 50)\n",
      "(27.166666666667176, (60.75, 'physical'), 0.7, 60)\n",
      "(27.166666666667176, (148.5, 'physical'), 0.7, 60)\n",
      "(28.60000000000058, (60.75, 'physical'), 0.7, 70)\n",
      "(28.60000000000058, (148.5, 'physical'), 0.7, 70)\n"
     ]
    }
   ],
   "source": [
    "import importlib\n",
    "importlib.reload(buffs)\n",
    "importlib.reload(set12champsimulator)\n",
    "importlib.reload(set12champs)\n",
    "\n",
    "simulator = set12champsimulator.Simulator()\n",
    "\n",
    "opponent = set12champs.ZeroResistance(2)\n",
    "\n",
    "unit = set12champs.Ashe(2)\n",
    "# items, then buffs\n",
    "unit = simulator.simulate([items.Rageblade(),items.Rageblade(),items.Rageblade(),], [],  unit, [copy.deepcopy(opponent) for i in range(8)], 30)\n",
    "print('ashe tests')\n",
    "print(*unit, sep='\\n')"
   ]
  },
  {
   "cell_type": "markdown",
   "id": "d704f70b",
   "metadata": {},
   "source": [
    "# Ashe tests"
   ]
  },
  {
   "cell_type": "markdown",
   "id": "3a11a0d0",
   "metadata": {},
   "source": [
    "First: Just guinsoos."
   ]
  },
  {
   "cell_type": "code",
   "execution_count": 3,
   "id": "385039e2",
   "metadata": {
    "scrolled": false
   },
   "outputs": [
    {
     "name": "stdout",
     "output_type": "stream",
     "text": [
      "Ezreal tests\n",
      "(0, (149.688, 'physical'), 0.75, 45)\n",
      "(1.3333333333333341, (149.688, 'physical'), 0.75, 65)\n",
      "(1.3333333333333341, (522.375, 'physical'), 0.75, 85)\n",
      "(1.3333333333333341, (417.9, 'physical'), 0.75, 85)\n",
      "(1.3333333333333341, (334.32000000000005, 'physical'), 0.75, 85)\n",
      "(1.3333333333333341, (267.456, 'physical'), 0.75, 85)\n",
      "(2.8666666666666663, (173.24999999999997, 'physical'), 0.75, 10)\n",
      "(4.199999999999995, (173.24999999999997, 'physical'), 0.75, 30)\n",
      "(5.5333333333333234, (149.688, 'physical'), 0.75, 50)\n",
      "(6.866666666666652, (149.688, 'physical'), 0.75, 70)\n",
      "(6.866666666666652, (522.375, 'physical'), 0.75, 90)\n",
      "(6.866666666666652, (417.9, 'physical'), 0.75, 90)\n",
      "(6.866666666666652, (334.32000000000005, 'physical'), 0.75, 90)\n",
      "(6.866666666666652, (267.456, 'physical'), 0.75, 90)\n",
      "(8.39999999999998, (173.24999999999997, 'physical'), 0.75, 15)\n",
      "(9.73333333333331, (173.24999999999997, 'physical'), 0.75, 35)\n",
      "(11.066666666666638, (149.688, 'physical'), 0.75, 55)\n",
      "(11.066666666666638, (522.375, 'physical'), 0.75, 75)\n",
      "(11.066666666666638, (417.9, 'physical'), 0.75, 75)\n",
      "(11.066666666666638, (334.32000000000005, 'physical'), 0.75, 75)\n",
      "(11.066666666666638, (267.456, 'physical'), 0.75, 75)\n",
      "(12.599999999999966, (173.24999999999997, 'physical'), 0.75, 0)\n",
      "(13.933333333333294, (173.24999999999997, 'physical'), 0.75, 20)\n",
      "(15.266666666666623, (149.688, 'physical'), 0.75, 40)\n",
      "(16.56666666666665, (149.688, 'physical'), 0.75, 60)\n",
      "(16.56666666666665, (522.375, 'physical'), 0.75, 80)\n",
      "(16.56666666666665, (417.9, 'physical'), 0.75, 80)\n",
      "(16.56666666666665, (334.32000000000005, 'physical'), 0.75, 80)\n",
      "(16.56666666666665, (267.456, 'physical'), 0.75, 80)\n",
      "(18.066666666666723, (173.24999999999997, 'physical'), 0.75, 5)\n",
      "(19.400000000000123, (173.24999999999997, 'physical'), 0.75, 25)\n",
      "(20.733333333333523, (149.688, 'physical'), 0.75, 45)\n",
      "(22.066666666666922, (149.688, 'physical'), 0.75, 65)\n",
      "(22.066666666666922, (522.375, 'physical'), 0.75, 85)\n",
      "(22.066666666666922, (417.9, 'physical'), 0.75, 85)\n",
      "(22.066666666666922, (334.32000000000005, 'physical'), 0.75, 85)\n",
      "(22.066666666666922, (267.456, 'physical'), 0.75, 85)\n",
      "(23.566666666666997, (173.24999999999997, 'physical'), 0.75, 10)\n",
      "(24.900000000000396, (173.24999999999997, 'physical'), 0.75, 30)\n",
      "(26.233333333333796, (149.688, 'physical'), 0.75, 50)\n",
      "(27.566666666667196, (149.688, 'physical'), 0.75, 70)\n",
      "(27.566666666667196, (522.375, 'physical'), 0.75, 90)\n",
      "(27.566666666667196, (417.9, 'physical'), 0.75, 90)\n",
      "(27.566666666667196, (334.32000000000005, 'physical'), 0.75, 90)\n",
      "(27.566666666667196, (267.456, 'physical'), 0.75, 90)\n",
      "(29.06666666666727, (173.24999999999997, 'physical'), 0.75, 15)\n"
     ]
    }
   ],
   "source": [
    "import importlib\n",
    "importlib.reload(buffs)\n",
    "importlib.reload(set12champsimulator)\n",
    "importlib.reload(set12champs)\n",
    "\n",
    "simulator = set12champsimulator.Simulator()\n",
    "\n",
    "opponent = set12champs.ZeroResistance(2)\n",
    "\n",
    "unit = set12champs.Ezreal(2)\n",
    "# items, then buffs\n",
    "unit = simulator.simulate([items.Shojin(), items.Shojin()], [buffs.Blaster(2, [])],  unit, [copy.deepcopy(opponent) for i in range(8)], 30)\n",
    "print('Ezreal tests')\n",
    "print(*unit, sep='\\n')"
   ]
  },
  {
   "cell_type": "markdown",
   "id": "95bed873",
   "metadata": {},
   "source": [
    "# Senna"
   ]
  },
  {
   "cell_type": "code",
   "execution_count": 4,
   "id": "badca0ea",
   "metadata": {},
   "outputs": [
    {
     "name": "stdout",
     "output_type": "stream",
     "text": [
      "senna tests\n",
      "(0.03333333333333333, (90.75, 'physical'), 0.8624999999999999, 20)\n",
      "(1.1333333333333335, (90.75, 'physical'), 0.8999999999999999, 30)\n",
      "(2.200000000000002, (90.75, 'physical'), 0.9375, 40)\n",
      "(3.2333333333333316, (90.75, 'physical'), 0.9750000000000001, 50)\n",
      "(4.199999999999995, (90.75, 'physical'), 1.0125000000000002, 60)\n",
      "(5.166666666666658, (90.75, 'physical'), 1.0499999999999998, 70)\n",
      "(5.166666666666658, (222.74999999999997, 'physical'), 1.0875, 80)\n",
      "(5.166666666666658, (222.74999999999997, 'physical'), 1.0875, 80)\n",
      "(6.099999999999988, (113.4375, 'physical'), 1.0875, 0)\n",
      "(6.999999999999985, (113.4375, 'physical'), 1.125, 10)\n",
      "(7.8666666666666485, (113.4375, 'physical'), 1.1625, 20)\n",
      "(8.69999999999998, (113.4375, 'physical'), 1.2000000000000002, 30)\n",
      "(9.499999999999977, (90.75, 'physical'), 1.2374999999999998, 40)\n",
      "(10.26666666666664, (90.75, 'physical'), 1.275, 50)\n",
      "(11.033333333333305, (90.75, 'physical'), 1.3125, 60)\n",
      "(11.766666666666636, (90.75, 'physical'), 1.35, 70)\n",
      "(11.766666666666636, (222.74999999999997, 'physical'), 1.3875000000000002, 80)\n",
      "(11.766666666666636, (222.74999999999997, 'physical'), 1.3875000000000002, 80)\n",
      "(12.499999999999966, (113.4375, 'physical'), 1.3875000000000002, 0)\n",
      "(13.199999999999964, (113.4375, 'physical'), 1.4249999999999998, 0)\n",
      "(13.899999999999961, (113.4375, 'physical'), 1.4625, 10)\n",
      "(14.566666666666626, (113.4375, 'physical'), 1.5, 20)\n",
      "(15.199999999999957, (113.4375, 'physical'), 1.5374999999999999, 30)\n",
      "(15.833333333333288, (90.75, 'physical'), 1.5750000000000002, 40)\n",
      "(16.466666666666644, (90.75, 'physical'), 1.6124999999999998, 50)\n",
      "(17.066666666666674, (90.75, 'physical'), 1.6500000000000001, 60)\n",
      "(17.666666666666703, (90.75, 'physical'), 1.6875, 70)\n",
      "(17.666666666666703, (222.74999999999997, 'physical'), 1.7249999999999999, 80)\n",
      "(17.666666666666703, (222.74999999999997, 'physical'), 1.7249999999999999, 80)\n",
      "(18.266666666666733, (113.4375, 'physical'), 1.7249999999999999, 0)\n",
      "(18.833333333333428, (113.4375, 'physical'), 1.7625000000000002, 0)\n",
      "(19.400000000000123, (113.4375, 'physical'), 1.7999999999999998, 10)\n",
      "(19.933333333333483, (113.4375, 'physical'), 1.8375000000000001, 20)\n",
      "(20.466666666666843, (113.4375, 'physical'), 1.875, 30)\n",
      "(21.000000000000203, (113.4375, 'physical'), 1.9124999999999999, 40)\n",
      "(21.500000000000227, (113.4375, 'physical'), 1.9500000000000002, 50)\n",
      "(22.000000000000252, (90.75, 'physical'), 1.9874999999999998, 60)\n",
      "(22.500000000000277, (90.75, 'physical'), 2.0250000000000004, 70)\n",
      "(22.500000000000277, (222.74999999999997, 'physical'), 2.0625, 80)\n",
      "(22.500000000000277, (222.74999999999997, 'physical'), 2.0625, 80)\n",
      "(23.000000000000302, (113.4375, 'physical'), 2.0625, 0)\n",
      "(23.500000000000327, (113.4375, 'physical'), 2.0999999999999996, 0)\n",
      "(23.966666666667017, (113.4375, 'physical'), 2.1375, 10)\n",
      "(24.433333333333707, (113.4375, 'physical'), 2.175, 20)\n",
      "(24.86666666666706, (113.4375, 'physical'), 2.2125000000000004, 30)\n",
      "(25.33333333333375, (113.4375, 'physical'), 2.25, 40)\n",
      "(25.766666666667106, (113.4375, 'physical'), 2.2874999999999996, 50)\n",
      "(26.20000000000046, (113.4375, 'physical'), 2.325, 60)\n",
      "(26.60000000000048, (90.75, 'physical'), 2.3625, 70)\n",
      "(26.60000000000048, (222.74999999999997, 'physical'), 2.4000000000000004, 80)\n",
      "(26.60000000000048, (222.74999999999997, 'physical'), 2.4000000000000004, 80)\n",
      "(27.100000000000506, (113.4375, 'physical'), 2.4000000000000004, 0)\n",
      "(27.53333333333386, (113.4375, 'physical'), 2.4375, 0)\n",
      "(27.93333333333388, (113.4375, 'physical'), 2.4749999999999996, 10)\n",
      "(28.3333333333339, (113.4375, 'physical'), 2.5125, 20)\n",
      "(28.73333333333392, (113.4375, 'physical'), 2.55, 30)\n",
      "(29.100000000000605, (113.4375, 'physical'), 2.5875000000000004, 40)\n",
      "(29.500000000000625, (113.4375, 'physical'), 2.625, 50)\n",
      "(29.86666666666731, (113.4375, 'physical'), 2.6624999999999996, 60)\n"
     ]
    }
   ],
   "source": [
    "import importlib\n",
    "importlib.reload(buffs)\n",
    "importlib.reload(set11champsimulator)\n",
    "importlib.reload(set11champs)\n",
    "\n",
    "simulator = set11champsimulator.Simulator()\n",
    "\n",
    "opponent = set11champs.ZeroResistance(2)\n",
    "\n",
    "unit = set11champs.Senna(2)\n",
    "# items, then buffs\n",
    "unit = simulator.simulate([items.Rageblade()], [],  unit, [copy.deepcopy(opponent) for i in range(8)], 30)\n",
    "print('senna tests')\n",
    "print(*unit, sep='\\n')"
   ]
  },
  {
   "cell_type": "markdown",
   "id": "0ceeb5ab",
   "metadata": {},
   "source": [
    "# Aphelios"
   ]
  },
  {
   "cell_type": "code",
   "execution_count": 8,
   "id": "a2adc386",
   "metadata": {},
   "outputs": [
    {
     "name": "stdout",
     "output_type": "stream",
     "text": [
      "senna tests\n",
      "(0.03333333333333333, (49.5, 'physical'), 0.75, 40)\n",
      "(1.3333333333333341, (49.5, 'physical'), 0.75, 50)\n",
      "(2.666666666666667, (49.5, 'physical'), 0.75, 60)\n",
      "(4.033333333333329, (49.5, 'physical'), 0.75, 70)\n",
      "(5.366666666666657, (49.5, 'physical'), 0.75, 80)\n",
      "(6.699999999999986, (49.5, 'physical'), 0.75, 90)\n",
      "(6.699999999999986, (117.5, 'physical'), 0.75, 100)\n",
      "(6.699999999999986, (117.5, 'physical'), 0.75, 100)\n",
      "(6.699999999999986, (117.5, 'physical'), 0.75, 100)\n",
      "(8.066666666666649, (55.0, 'physical'), 0.75, 0)\n",
      "(9.399999999999977, (55.0, 'physical'), 0.75, 10)\n",
      "(10.733333333333306, (55.0, 'physical'), 0.75, 20)\n",
      "(12.066666666666634, (55.0, 'physical'), 0.75, 30)\n",
      "(13.399999999999963, (55.0, 'physical'), 0.75, 40)\n",
      "(14.733333333333292, (49.5, 'physical'), 0.75, 50)\n",
      "(16.066666666666624, (49.5, 'physical'), 0.75, 60)\n",
      "(17.36666666666669, (49.5, 'physical'), 0.75, 70)\n",
      "(18.700000000000088, (49.5, 'physical'), 0.75, 80)\n",
      "(20.033333333333488, (49.5, 'physical'), 0.75, 90)\n",
      "(20.033333333333488, (117.5, 'physical'), 0.75, 100)\n",
      "(20.033333333333488, (117.5, 'physical'), 0.75, 100)\n",
      "(20.033333333333488, (117.5, 'physical'), 0.75, 100)\n",
      "(21.366666666666887, (55.0, 'physical'), 0.75, 0)\n",
      "(22.700000000000287, (55.0, 'physical'), 0.75, 10)\n",
      "(24.033333333333687, (55.0, 'physical'), 0.75, 20)\n",
      "(25.366666666667086, (55.0, 'physical'), 0.75, 30)\n",
      "(26.700000000000486, (55.0, 'physical'), 0.75, 40)\n",
      "(28.033333333333886, (49.5, 'physical'), 0.75, 50)\n",
      "(29.366666666667285, (49.5, 'physical'), 0.75, 60)\n"
     ]
    }
   ],
   "source": [
    "import importlib\n",
    "importlib.reload(buffs)\n",
    "importlib.reload(set11champsimulator)\n",
    "importlib.reload(set11champs)\n",
    "\n",
    "simulator = set11champsimulator.Simulator()\n",
    "\n",
    "opponent = set11champs.DummyTank(2)\n",
    "\n",
    "unit = set11champs.Aphelios(2)\n",
    "# items, then buffs\n",
    "unit = simulator.simulate([], [],  unit, [copy.deepcopy(opponent) for i in range(8)], 30)\n",
    "print('senna tests')\n",
    "print(*unit, sep='\\n')"
   ]
  }
 ],
 "metadata": {
  "kernelspec": {
   "display_name": "Python [conda env:starcraft] *",
   "language": "python",
   "name": "conda-env-starcraft-py"
  },
  "language_info": {
   "codemirror_mode": {
    "name": "ipython",
    "version": 3
   },
   "file_extension": ".py",
   "mimetype": "text/x-python",
   "name": "python",
   "nbconvert_exporter": "python",
   "pygments_lexer": "ipython3",
   "version": "3.6.13"
  }
 },
 "nbformat": 4,
 "nbformat_minor": 5
}
